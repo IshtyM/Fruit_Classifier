{
 "cells": [
  {
   "cell_type": "code",
   "execution_count": 3,
   "metadata": {
    "collapsed": true
   },
   "outputs": [
    {
     "name": "stdout",
     "output_type": "stream",
     "text": [
      "Collecting voila"
     ]
    },
    {
     "name": "stderr",
     "output_type": "stream",
     "text": [
      "  WARNING: Retrying (Retry(total=4, connect=None, read=None, redirect=None, status=None)) after connection broken by 'ReadTimeoutError(\"HTTPSConnectionPool(host='files.pythonhosted.org', port=443): Read timed out. (read timeout=15)\")': /packages/88/03/cd5aa2c97356b7eee484a2b63fe850076ecb82fdeda82979a234b62a9a37/websocket_client-1.2.3-py3-none-any.whl\n",
      "ERROR: Could not install packages due to an EnvironmentError: [WinError 5] Access is denied: 'C:\\\\Users\\\\DEEPANSHU\\\\anaconda3\\\\Lib\\\\site-packages\\\\~ornado\\\\speedups.cp38-win_amd64.pyd'\n",
      "Consider using the `--user` option or check the permissions.\n",
      "\n"
     ]
    },
    {
     "name": "stdout",
     "output_type": "stream",
     "text": [
      "\n",
      "  Using cached voila-0.3.0-py3-none-any.whl (1.7 MB)\n",
      "Collecting jupyter-server<2.0.0,>=0.3.0\n",
      "  Using cached jupyter_server-1.13.4-py3-none-any.whl (395 kB)\n",
      "Requirement already satisfied: jupyter-client<8,>=6.1.3 in c:\\users\\deepanshu\\anaconda3\\lib\\site-packages (from voila) (6.1.7)\n",
      "Requirement already satisfied: nbclient<0.6,>=0.4.0 in c:\\users\\deepanshu\\anaconda3\\lib\\site-packages (from voila) (0.5.1)\n",
      "Collecting nbconvert<7,>=6.0.0\n",
      "  Using cached nbconvert-6.4.0-py3-none-any.whl (557 kB)\n",
      "Collecting websockets>=9.0\n",
      "  Using cached websockets-10.1-cp38-cp38-win_amd64.whl (97 kB)\n",
      "Requirement already satisfied: packaging in c:\\users\\deepanshu\\anaconda3\\lib\\site-packages (from jupyter-server<2.0.0,>=0.3.0->voila) (20.4)\n",
      "Requirement already satisfied: Send2Trash in c:\\users\\deepanshu\\anaconda3\\lib\\site-packages (from jupyter-server<2.0.0,>=0.3.0->voila) (1.5.0)\n",
      "Requirement already satisfied: terminado>=0.8.3 in c:\\users\\deepanshu\\anaconda3\\lib\\site-packages (from jupyter-server<2.0.0,>=0.3.0->voila) (0.9.1)\n",
      "Requirement already satisfied: pyzmq>=17 in c:\\users\\deepanshu\\anaconda3\\lib\\site-packages (from jupyter-server<2.0.0,>=0.3.0->voila) (19.0.2)\n",
      "Collecting websocket-client\n",
      "  Downloading websocket_client-1.2.3-py3-none-any.whl (53 kB)\n",
      "Collecting tornado>=6.1.0\n",
      "  Downloading tornado-6.1-cp38-cp38-win_amd64.whl (422 kB)\n",
      "Requirement already satisfied: argon2-cffi in c:\\users\\deepanshu\\anaconda3\\lib\\site-packages (from jupyter-server<2.0.0,>=0.3.0->voila) (20.1.0)\n",
      "Requirement already satisfied: prometheus-client in c:\\users\\deepanshu\\anaconda3\\lib\\site-packages (from jupyter-server<2.0.0,>=0.3.0->voila) (0.8.0)\n",
      "Requirement already satisfied: jupyter-core>=4.6.0 in c:\\users\\deepanshu\\anaconda3\\lib\\site-packages (from jupyter-server<2.0.0,>=0.3.0->voila) (4.6.3)\n",
      "Requirement already satisfied: jinja2 in c:\\users\\deepanshu\\anaconda3\\lib\\site-packages (from jupyter-server<2.0.0,>=0.3.0->voila) (2.11.2)\n",
      "Collecting anyio<4,>=3.1.0\n",
      "  Downloading anyio-3.5.0-py3-none-any.whl (79 kB)\n",
      "Requirement already satisfied: ipython-genutils in c:\\users\\deepanshu\\anaconda3\\lib\\site-packages (from jupyter-server<2.0.0,>=0.3.0->voila) (0.2.0)\n",
      "Requirement already satisfied: traitlets>=5 in c:\\users\\deepanshu\\anaconda3\\lib\\site-packages (from jupyter-server<2.0.0,>=0.3.0->voila) (5.0.5)\n",
      "Requirement already satisfied: nbformat in c:\\users\\deepanshu\\anaconda3\\lib\\site-packages (from jupyter-server<2.0.0,>=0.3.0->voila) (5.0.8)\n",
      "Requirement already satisfied: python-dateutil>=2.1 in c:\\users\\deepanshu\\anaconda3\\lib\\site-packages (from jupyter-client<8,>=6.1.3->voila) (2.8.1)\n",
      "Requirement already satisfied: async-generator in c:\\users\\deepanshu\\anaconda3\\lib\\site-packages (from nbclient<0.6,>=0.4.0->voila) (1.10)\n",
      "Requirement already satisfied: nest-asyncio in c:\\users\\deepanshu\\anaconda3\\lib\\site-packages (from nbclient<0.6,>=0.4.0->voila) (1.4.2)\n",
      "Requirement already satisfied: pygments>=2.4.1 in c:\\users\\deepanshu\\anaconda3\\lib\\site-packages (from nbconvert<7,>=6.0.0->voila) (2.7.2)\n",
      "Requirement already satisfied: mistune<2,>=0.8.1 in c:\\users\\deepanshu\\anaconda3\\lib\\site-packages (from nbconvert<7,>=6.0.0->voila) (0.8.4)\n",
      "Requirement already satisfied: entrypoints>=0.2.2 in c:\\users\\deepanshu\\anaconda3\\lib\\site-packages (from nbconvert<7,>=6.0.0->voila) (0.3)\n",
      "Requirement already satisfied: pandocfilters>=1.4.1 in c:\\users\\deepanshu\\anaconda3\\lib\\site-packages (from nbconvert<7,>=6.0.0->voila) (1.4.3)\n",
      "Requirement already satisfied: jupyterlab-pygments in c:\\users\\deepanshu\\anaconda3\\lib\\site-packages (from nbconvert<7,>=6.0.0->voila) (0.1.2)\n",
      "Requirement already satisfied: bleach in c:\\users\\deepanshu\\anaconda3\\lib\\site-packages (from nbconvert<7,>=6.0.0->voila) (3.2.1)\n",
      "Requirement already satisfied: testpath in c:\\users\\deepanshu\\anaconda3\\lib\\site-packages (from nbconvert<7,>=6.0.0->voila) (0.4.4)\n",
      "Requirement already satisfied: defusedxml in c:\\users\\deepanshu\\anaconda3\\lib\\site-packages (from nbconvert<7,>=6.0.0->voila) (0.6.0)\n",
      "Requirement already satisfied: pyparsing>=2.0.2 in c:\\users\\deepanshu\\anaconda3\\lib\\site-packages (from packaging->jupyter-server<2.0.0,>=0.3.0->voila) (2.4.7)\n",
      "Requirement already satisfied: six in c:\\users\\deepanshu\\anaconda3\\lib\\site-packages (from packaging->jupyter-server<2.0.0,>=0.3.0->voila) (1.15.0)\n",
      "Requirement already satisfied: pywinpty>=0.5 in c:\\users\\deepanshu\\anaconda3\\lib\\site-packages (from terminado>=0.8.3->jupyter-server<2.0.0,>=0.3.0->voila) (0.5.7)\n",
      "Requirement already satisfied: cffi>=1.0.0 in c:\\users\\deepanshu\\anaconda3\\lib\\site-packages (from argon2-cffi->jupyter-server<2.0.0,>=0.3.0->voila) (1.14.3)\n",
      "Requirement already satisfied: pywin32>=1.0; sys_platform == \"win32\" in c:\\users\\deepanshu\\anaconda3\\lib\\site-packages (from jupyter-core>=4.6.0->jupyter-server<2.0.0,>=0.3.0->voila) (227)\n",
      "Requirement already satisfied: MarkupSafe>=0.23 in c:\\users\\deepanshu\\anaconda3\\lib\\site-packages (from jinja2->jupyter-server<2.0.0,>=0.3.0->voila) (1.1.1)\n",
      "Collecting sniffio>=1.1\n",
      "  Downloading sniffio-1.2.0-py3-none-any.whl (10 kB)\n",
      "Requirement already satisfied: idna>=2.8 in c:\\users\\deepanshu\\anaconda3\\lib\\site-packages (from anyio<4,>=3.1.0->jupyter-server<2.0.0,>=0.3.0->voila) (2.10)\n",
      "Requirement already satisfied: jsonschema!=2.5.0,>=2.4 in c:\\users\\deepanshu\\anaconda3\\lib\\site-packages (from nbformat->jupyter-server<2.0.0,>=0.3.0->voila) (3.2.0)\n",
      "Requirement already satisfied: webencodings in c:\\users\\deepanshu\\anaconda3\\lib\\site-packages (from bleach->nbconvert<7,>=6.0.0->voila) (0.5.1)\n",
      "Requirement already satisfied: pycparser in c:\\users\\deepanshu\\anaconda3\\lib\\site-packages (from cffi>=1.0.0->argon2-cffi->jupyter-server<2.0.0,>=0.3.0->voila) (2.20)\n",
      "Requirement already satisfied: attrs>=17.4.0 in c:\\users\\deepanshu\\anaconda3\\lib\\site-packages (from jsonschema!=2.5.0,>=2.4->nbformat->jupyter-server<2.0.0,>=0.3.0->voila) (20.3.0)\n",
      "Requirement already satisfied: pyrsistent>=0.14.0 in c:\\users\\deepanshu\\anaconda3\\lib\\site-packages (from jsonschema!=2.5.0,>=2.4->nbformat->jupyter-server<2.0.0,>=0.3.0->voila) (0.17.3)\n",
      "Requirement already satisfied: setuptools in c:\\users\\deepanshu\\anaconda3\\lib\\site-packages (from jsonschema!=2.5.0,>=2.4->nbformat->jupyter-server<2.0.0,>=0.3.0->voila) (50.3.1.post20201107)\n",
      "Installing collected packages: websocket-client, tornado, nbconvert, sniffio, anyio, jupyter-server, websockets, voila\n",
      "  Attempting uninstall: tornado\n",
      "    Found existing installation: tornado 6.0.4\n",
      "    Uninstalling tornado-6.0.4:\n",
      "      Successfully uninstalled tornado-6.0.4\n"
     ]
    },
    {
     "name": "stderr",
     "output_type": "stream",
     "text": [
      "Enabling: voila\n",
      "- Writing config: C:\\Users\\DEEPANSHU\\anaconda3\\etc\\jupyter\n",
      "    - Validating...\n",
      "Error loading server extension voila\n",
      "      X is voila importable?\n"
     ]
    }
   ],
   "source": [
    "from fastbook import *\n",
    "from fastai.vision.widgets import *\n",
    "!pip install voila\n",
    "!jupyter serverextension enable --sys-prefix voila"
   ]
  },
  {
   "cell_type": "code",
   "execution_count": 4,
   "metadata": {},
   "outputs": [
    {
     "data": {
      "application/vnd.jupyter.widget-view+json": {
       "model_id": "dbafabfe4ea54568ac04be0a9b6ec320",
       "version_major": 2,
       "version_minor": 0
      },
      "text/plain": [
       "VBox(children=(Label(value='Select your Image!'), FileUpload(value={}, description='Upload'), Button(descripti…"
      ]
     },
     "metadata": {},
     "output_type": "display_data"
    },
    {
     "data": {
      "text/html": [],
      "text/plain": [
       "<IPython.core.display.HTML object>"
      ]
     },
     "metadata": {},
     "output_type": "display_data"
    }
   ],
   "source": [
    "path=Path()\n",
    "learn_inf = load_learner(path/'export.pkl') \n",
    "\n",
    "btn_upload = widgets.FileUpload() \n",
    "out_pl = widgets.Output() #output widgets \n",
    "out_pl.clear_output()\n",
    "lbl_pred = widgets.Label()\n",
    "lbl_pred.value = \"Click Classify for ans \"\n",
    "btn_run = widgets.Button(description='Classify')\n",
    "\n",
    "def on_click_classify(change):\n",
    "    img = PILImage.create(btn_upload.data[-1])\n",
    "    out_pl.clear_output()\n",
    "    with out_pl: display(img.to_thumb(128,128))\n",
    "    pred,pred_idx,probs = learn_inf.predict(img)\n",
    "    lbl_pred.value = f'Prediction: {pred}; Probability: {probs[pred_idx]:.04f}'\n",
    "\n",
    "btn_run.on_click(on_click_classify)\n",
    "\n",
    "#To dump all above things together is a Vbox vertical box\n",
    "VBox([widgets.Label('Select your Image!'), \n",
    "      btn_upload, btn_run, out_pl, lbl_pred])"
   ]
  },
  {
   "cell_type": "code",
   "execution_count": null,
   "metadata": {},
   "outputs": [],
   "source": []
  },
  {
   "cell_type": "code",
   "execution_count": null,
   "metadata": {},
   "outputs": [],
   "source": []
  },
  {
   "cell_type": "code",
   "execution_count": null,
   "metadata": {},
   "outputs": [],
   "source": []
  },
  {
   "cell_type": "code",
   "execution_count": null,
   "metadata": {},
   "outputs": [],
   "source": []
  },
  {
   "cell_type": "code",
   "execution_count": null,
   "metadata": {},
   "outputs": [],
   "source": []
  },
  {
   "cell_type": "code",
   "execution_count": null,
   "metadata": {},
   "outputs": [],
   "source": []
  },
  {
   "cell_type": "code",
   "execution_count": null,
   "metadata": {},
   "outputs": [],
   "source": []
  },
  {
   "cell_type": "code",
   "execution_count": null,
   "metadata": {},
   "outputs": [],
   "source": []
  },
  {
   "cell_type": "code",
   "execution_count": null,
   "metadata": {},
   "outputs": [],
   "source": []
  }
 ],
 "metadata": {
  "kernelspec": {
   "display_name": "Python 3",
   "language": "python",
   "name": "python3"
  },
  "language_info": {
   "codemirror_mode": {
    "name": "ipython",
    "version": 3
   },
   "file_extension": ".py",
   "mimetype": "text/x-python",
   "name": "python",
   "nbconvert_exporter": "python",
   "pygments_lexer": "ipython3",
   "version": "3.8.5"
  }
 },
 "nbformat": 4,
 "nbformat_minor": 4
}
